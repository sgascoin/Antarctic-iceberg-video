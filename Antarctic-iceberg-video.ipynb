{
 "cells": [
  {
   "cell_type": "code",
   "execution_count": 1,
   "metadata": {},
   "outputs": [],
   "source": [
    "from dask import dataframe as ddf\n",
    "import pandas as pd\n",
    "import datetime\n",
    "from os import path\n",
    "from matplotlib import pyplot as plt\n",
    "from matplotlib.dates import date2num\n",
    "from mpl_toolkits.basemap import Basemap\n",
    "plt.rcParams[\"font.family\"] = \"RomanD\" # IDL style (https://www.wfonts.com/font/romand)"
   ]
  },
  {
   "cell_type": "markdown",
   "metadata": {},
   "source": [
    "## Read all iceberg CSV files\n",
    "Files are available from https://usicecenter.gov/Products/AntarcIcebergs\n",
    "\n",
    "I collected 469 files spanning 2014-2023"
   ]
  },
  {
   "cell_type": "code",
   "execution_count": 2,
   "metadata": {},
   "outputs": [],
   "source": [
    "df = ddf.read_csv('USICE/AntarcticIcebergs*.csv',\n",
    "                 assume_missing=True,\n",
    "                 parse_dates=['Last Update'])\n",
    "\n",
    "d = df.compute().set_index('Last Update')\n",
    "d = d.loc[d.index.dropna()]\n",
    "d.sort_values(by='Last Update', ascending=True, inplace=True)\n",
    "\n",
    "# add a \"size\" attribute \n",
    "d['Size'] = d['Length (NM)'] * d['Width (NM)']\n",
    "\n",
    "# remove outlier rows\n",
    "d.drop(['2005-02-20', '2016-12-26','2018-03-22','2020-03-04','2022-01-17','2023-01-23'],\n",
    "       inplace = True) "
   ]
  },
  {
   "cell_type": "markdown",
   "metadata": {},
   "source": [
    "## Create a map for every date\n",
    "Export every figure as a png file"
   ]
  },
  {
   "cell_type": "code",
   "execution_count": 3,
   "metadata": {},
   "outputs": [],
   "source": [
    "fig = plt.figure(figsize=(8,8))\n",
    "m = Basemap(projection='spstere',\n",
    "            boundinglat=-60,\n",
    "            lon_0=90,\n",
    "            resolution='l')\n",
    "d['x'], d['y'] = m(d.Longitude.values, d.Latitude.values)\n",
    "# loop all dates since 2017 except the last one\n",
    "for date in d.index.unique()[:-1]:\n",
    "    t = date.strftime('%Y-%m-%d')    \n",
    "    if not path.isfile(f'anim/{t}.png'):\n",
    "        dd = d.loc[date - datetime.timedelta(days=60):date]\n",
    "        m.fillcontinents()\n",
    "        dn = date2num(dd.index)\n",
    "        dnn =(dn-dn.min())/(dn.max()-dn.min())\n",
    "        c = plt.cm.Blues(dnn)\n",
    "        s = m.scatter(dd.x, dd.y, \n",
    "                      marker = 'o', s=dd.Size, facecolors='none', edgecolors=c, zorder=3, alpha=0.5)\n",
    "        for icb in dd.Iceberg.unique():\n",
    "            d0i = dd.query('Iceberg == @icb').sort_index(ascending=False).iloc[0]\n",
    "            if d0i.Size>1000:\n",
    "                plt.annotate(icb,(d0i.x+d0i.Size/100, d0i.y+d0i.Size/100), zorder = 4, \n",
    "                             xytext=(d0i.Size/100, d0i.Size/100), textcoords='offset points',\n",
    "                             annotation_clip=True)\n",
    "        plt.title(t);\n",
    "        plt.savefig(f'anim/{t}.png',dpi=200)\n",
    "        plt.cla()\n",
    "\n",
    "plt.close()"
   ]
  },
  {
   "cell_type": "markdown",
   "metadata": {},
   "source": [
    "Process the last date with the same code but progressively reducing the timedelta (kind of fade out)"
   ]
  },
  {
   "cell_type": "code",
   "execution_count": 4,
   "metadata": {},
   "outputs": [],
   "source": [
    "date=d.index[-1]\n",
    "\n",
    "fig = plt.figure(figsize=(8,8))\n",
    "m = Basemap(projection='spstere',\n",
    "            boundinglat=-60,\n",
    "            lon_0=90,\n",
    "            resolution='l')\n",
    "\n",
    "for delta in [60, 50, 40, 30, 20, 10, 7]:\n",
    "    dd = d.loc[date - datetime.timedelta(days=delta):date]\n",
    "    m.fillcontinents()\n",
    "    dn = date2num(dd.index)\n",
    "    dnn =(dn-dn.min())/(dn.max()-dn.min())\n",
    "    c = plt.cm.Blues(dnn)\n",
    "    s = m.scatter(dd.x, dd.y, \n",
    "                  marker = 'o', s=dd.Size, facecolors='none', edgecolors=c, zorder=3, alpha=0.5)\n",
    "    for icb in dd.Iceberg.unique():\n",
    "        d0i = dd.query('Iceberg == @icb').sort_index(ascending=False).iloc[0]\n",
    "        if d0i.Size>1000:\n",
    "            plt.annotate(icb,(d0i.x+d0i.Size/100, d0i.y+d0i.Size/100), zorder = 4, \n",
    "                         xytext=(d0i.Size/100, d0i.Size/100), textcoords='offset points',\n",
    "                         annotation_clip=True)\n",
    "    t = date.strftime('%Y-%m-%d')\n",
    "    plt.title(t);\n",
    "    plt.savefig(f'anim/{t}_{60-delta}.png',dpi=200)\n",
    "\n",
    "plt.close()"
   ]
  },
  {
   "cell_type": "markdown",
   "metadata": {},
   "source": [
    "## Create the video  \n",
    "using ffmpeg in the system shell (and my own fancy font)"
   ]
  },
  {
   "cell_type": "code",
   "execution_count": 5,
   "metadata": {},
   "outputs": [],
   "source": [
    "!ffmpeg -y -loglevel quiet -framerate 25 -pattern_type glob -i 'anim/*.png' -c:v libx264 -pix_fmt yuv420p -vf \"crop=1300:1350:170:120, drawtext=text='Data from US National Ice Center - Video created by S. Gascoin':fontfile=/Users/gascoins/Library/Fonts/RomanD.ttf:fontsize=20:fontcolor=black:x=100:y=1300\" anim.mp4"
   ]
  },
  {
   "cell_type": "code",
   "execution_count": 6,
   "metadata": {
    "jupyter": {
     "source_hidden": true
    },
    "tags": []
   },
   "outputs": [],
   "source": [
    "# maybe useful next time to smooth the video\n",
    "def get_icb_10d(d, icb = 'B17A'):\n",
    "    \"return dataframe of an iceberg coordinates and metadata interpolated to 10d\"\n",
    "    d0i = d.query('Iceberg == @icb').drop_duplicates()\n",
    "    dicb = d0i.Iceberg.resample(\"10d\").interpolate(\"pad\",limit_direction='forward')\n",
    "    d0 = d0i.resample(\"10d\").interpolate(\"pad\",limit_direction='forward')\n",
    "    d0['Iceberg'] = dicb\n",
    "    return d0"
   ]
  }
 ],
 "metadata": {
  "kernelspec": {
   "display_name": "Python 3",
   "language": "python",
   "name": "python3"
  },
  "language_info": {
   "codemirror_mode": {
    "name": "ipython",
    "version": 3
   },
   "file_extension": ".py",
   "mimetype": "text/x-python",
   "name": "python",
   "nbconvert_exporter": "python",
   "pygments_lexer": "ipython3",
   "version": "3.8.15"
  }
 },
 "nbformat": 4,
 "nbformat_minor": 4
}
